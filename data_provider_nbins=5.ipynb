{
 "cells": [
  {
   "cell_type": "markdown",
   "metadata": {},
   "source": [
    "Approach:\n",
    "\n",
    "The approach is to reduce the number of angular bins from 15 to 5. I think having 15 angular bins is not necessary for our donkey-car. The variation in the steering curvature is not that drastic. I think it suffices to have 2 modes for left, 2 models for right, and 1 mode corresponding to forward motion, for a total of 5 bins."
   ]
  },
  {
   "cell_type": "code",
   "execution_count": 1,
   "metadata": {},
   "outputs": [],
   "source": [
    "import os\n",
    "import numpy as np\n",
    "from tqdm import *"
   ]
  },
  {
   "cell_type": "code",
   "execution_count": 2,
   "metadata": {},
   "outputs": [],
   "source": [
    "import os\n",
    "import sys\n",
    "import time\n",
    "import json\n",
    "import datetime\n",
    "import random\n",
    "\n",
    "from PIL import Image\n",
    "\n",
    "import numpy as np\n",
    "\n",
    "\n",
    "class Tub(object):\n",
    "    \"\"\"\n",
    "    A datastore to store sensor data in a key, value format.\n",
    "\n",
    "    Accepts str, int, float, image_array, image, and array data types.\n",
    "\n",
    "    For example:\n",
    "\n",
    "    #Create a tub to store speed values.\n",
    "    >>> path = '~/mydonkey/test_tub'\n",
    "    >>> inputs = ['user/speed', 'cam/image']\n",
    "    >>> types = ['float', 'image']\n",
    "    >>> t=Tub(path=path, inputs=inputs, types=types)\n",
    "\n",
    "    \"\"\"\n",
    "\n",
    "    def __init__(self, path, inputs=None, types=None):\n",
    "\n",
    "        self.path = os.path.expanduser(path)\n",
    "        self.meta_path = os.path.join(self.path, 'meta.json')\n",
    "\n",
    "        exists = os.path.exists(self.path)\n",
    "\n",
    "        if exists:\n",
    "            #load log and meta\n",
    "            print(\"Tub does exist\")\n",
    "            with open(self.meta_path, 'r') as f:\n",
    "                self.meta = json.load(f)\n",
    "            self.current_ix = self.get_last_ix() + 1\n",
    "\n",
    "        elif not exists and inputs:\n",
    "            print('tub does NOT exist')\n",
    "            #create log and save meta\n",
    "            os.makedirs(self.path)\n",
    "            self.meta = {'inputs': inputs, 'types': types}\n",
    "            with open(self.meta_path, 'w') as f:\n",
    "                json.dump(self.meta, f)\n",
    "            self.current_ix = 0\n",
    "        else:\n",
    "            raise AttributeError('The path doesnt exist and you pass meta info.')\n",
    "\n",
    "        self.start_time = time.time()\n",
    "\n",
    "\n",
    "    def get_last_ix(self):\n",
    "        index = self.get_index()\n",
    "        last_index = max(index)\n",
    "        print(\"max index: \"+str(last_index))\n",
    "        return last_index\n",
    "\n",
    "    def get_index(self, shuffled=True):\n",
    "        files = next(os.walk(self.path))[2]\n",
    "        record_files = [f for f in files if f[:6]=='record']\n",
    "        \n",
    "        def get_file_ix(file_name):\n",
    "            try:\n",
    "                name = file_name.split('.')[0]\n",
    "                num = int(name.split('_')[1])\n",
    "            except:\n",
    "                num = 0\n",
    "            return num\n",
    "\n",
    "        nums = [get_file_ix(f) for f in record_files]\n",
    "        \n",
    "        if shuffled:\n",
    "            random.shuffle(nums)\n",
    "        else:\n",
    "            nums = sorted(nums)\n",
    "            \n",
    "        return nums \n",
    "\n",
    "\n",
    "    @property\n",
    "    def inputs(self):\n",
    "        return list(self.meta['inputs'])\n",
    "\n",
    "    @property\n",
    "    def types(self):\n",
    "        return list(self.meta['types'])\n",
    "\n",
    "    def get_input_type(self, key):\n",
    "        input_types = dict(zip(self.inputs, self.types))\n",
    "        return input_types.get(key)\n",
    "\n",
    "    def write_json_record(self, json_data):\n",
    "        path = self.get_json_record_path(self.current_ix)\n",
    "        try:\n",
    "            with open(path, 'w') as fp:\n",
    "                json.dump(json_data, fp)\n",
    "                #print('wrote record:', json_data)\n",
    "        except TypeError:\n",
    "            print('troubles with record:', json_data)\n",
    "        except:\n",
    "            print(\"Unexpected error:\", sys.exc_info()[0])\n",
    "            raise\n",
    "\n",
    "    def get_json_record_path(self, ix):\n",
    "        return os.path.join(self.path, 'record_'+str(ix)+'.json')\n",
    "\n",
    "    def get_json_record(self, ix):\n",
    "        path = self.get_json_record_path(ix)\n",
    "        with open(path, 'r') as fp:\n",
    "            json_data = json.load(fp)\n",
    "        return json_data\n",
    "\n",
    "    def put_record(self, data):\n",
    "        \"\"\"\n",
    "        Save values like images that can't be saved in the csv log and\n",
    "        return a record with references to the saved values that can\n",
    "        be saved in a csv.\n",
    "        \"\"\"\n",
    "        json_data = {}\n",
    "        \n",
    "        for key, val in data.items():\n",
    "            typ = self.get_input_type(key)\n",
    "\n",
    "            if typ in ['str', 'float', 'int', 'boolean']:\n",
    "                json_data[key] = val\n",
    "\n",
    "            elif typ is 'image':\n",
    "                path = self.make_file_path(key)\n",
    "                val.save(path)\n",
    "                json_data[key]=path\n",
    "\n",
    "            elif typ == 'image_array':\n",
    "                img = Image.fromarray(np.uint8(val))\n",
    "                name = self.make_file_name(key, ext='.jpg')\n",
    "                img.save(os.path.join(self.path, name))\n",
    "                json_data[key]=name\n",
    "\n",
    "            else:\n",
    "                msg = 'Tub does not know what to do with this type {}'.format(typ)\n",
    "                raise TypeError(msg)\n",
    "\n",
    "        self.write_json_record(json_data)\n",
    "        self.current_ix += 1\n",
    "\n",
    "    def get_record(self, ix):\n",
    "\n",
    "        json_data = self.get_json_record(ix)\n",
    "        data={}\n",
    "        for key, val in json_data.items():\n",
    "            typ = self.get_input_type(key)\n",
    "\n",
    "            #load objects that were saved as separate files\n",
    "            if typ == 'image':\n",
    "                val = Image.open(os.path.join(self.path, val))\n",
    "            elif typ == 'image_array':\n",
    "                img = Image.open(os.path.join(self.path, val))\n",
    "                val = np.array(img)\n",
    "\n",
    "            data[key] = val\n",
    "\n",
    "        return data\n",
    "\n",
    "\n",
    "    def make_file_name(self, key, ext='.png'):\n",
    "        name = '_'.join([str(self.current_ix), key, ext])\n",
    "        name = name = name.replace('/', '-')\n",
    "        return name\n",
    "\n",
    "    def delete(self):\n",
    "        \"\"\" Delete the folder and files for this tub. \"\"\"\n",
    "        import shutil\n",
    "        shutil.rmtree(self.path)\n",
    "\n",
    "    def shutdown(self):\n",
    "        pass\n",
    "\n",
    "\n",
    "    def get_records(self, index=None, record_transform=None):\n",
    "        if index==None:\n",
    "            index=self.get_index(shuffled=True)\n",
    "        \n",
    "        records = []\n",
    "        for i in tqdm(index):\n",
    "            record = self.get_record(i)\n",
    "            if record_transform:\n",
    "                record = record_transform(record)\n",
    "            records.append(record)\n",
    "        return records\n"
   ]
  },
  {
   "cell_type": "code",
   "execution_count": 3,
   "metadata": {},
   "outputs": [
    {
     "name": "stdout",
     "output_type": "stream",
     "text": [
      "Tub does exist\n",
      "max index: 17965\n"
     ]
    }
   ],
   "source": [
    "#testing record_gen\n",
    "tub = Tub(\"/home/paperspace/donkey_train/tub_data\")"
   ]
  },
  {
   "cell_type": "code",
   "execution_count": 4,
   "metadata": {},
   "outputs": [
    {
     "name": "stderr",
     "output_type": "stream",
     "text": [
      "100%|██████████| 17966/17966 [00:49<00:00, 365.99it/s]\n"
     ]
    }
   ],
   "source": [
    "records = tub.get_records()"
   ]
  },
  {
   "cell_type": "code",
   "execution_count": 5,
   "metadata": {},
   "outputs": [],
   "source": [
    "n_records = len(records)"
   ]
  },
  {
   "cell_type": "code",
   "execution_count": 6,
   "metadata": {},
   "outputs": [],
   "source": [
    "img_shape = records[0]['cam/image_array'].shape"
   ]
  },
  {
   "cell_type": "code",
   "execution_count": 7,
   "metadata": {},
   "outputs": [
    {
     "name": "stdout",
     "output_type": "stream",
     "text": [
      "(120, 160, 3)\n"
     ]
    }
   ],
   "source": [
    "print(img_shape)"
   ]
  },
  {
   "cell_type": "code",
   "execution_count": 8,
   "metadata": {},
   "outputs": [],
   "source": [
    "x_data = np.zeros((n_records,*img_shape))"
   ]
  },
  {
   "cell_type": "code",
   "execution_count": 9,
   "metadata": {},
   "outputs": [],
   "source": [
    "n_angles = 5"
   ]
  },
  {
   "cell_type": "code",
   "execution_count": 10,
   "metadata": {},
   "outputs": [],
   "source": [
    "y_data = np.zeros((n_records,n_angles))"
   ]
  },
  {
   "cell_type": "code",
   "execution_count": 24,
   "metadata": {},
   "outputs": [],
   "source": [
    "def trueMap(a,b):\n",
    "    \n",
    "    if(-1.0<=a<-0.6):\n",
    "        c = 0\n",
    "    elif(-0.6<=a<-0.2):\n",
    "        c = 1\n",
    "    elif(-0.2<=a<0.2):\n",
    "        c = 2\n",
    "    elif(0.2<=a<0.6):\n",
    "        c = 3\n",
    "    elif(0.6<=a<=1.0):\n",
    "        c = 4\n",
    "    else:\n",
    "        c = 2 # go straight forward..\n",
    "        print(\"unknown angle: \"+str(a))\n",
    "    \n",
    "    if(b==c):\n",
    "        return True,c\n",
    "    else:\n",
    "        return False,c\n",
    "    "
   ]
  },
  {
   "cell_type": "code",
   "execution_count": 25,
   "metadata": {},
   "outputs": [],
   "source": [
    "def linear_bin(a):    \n",
    "    _ , b = trueMap(a,-99999)\n",
    "    arr = np.zeros(5)\n",
    "    arr[int(b)] = 1\n",
    "    return arr"
   ]
  },
  {
   "cell_type": "code",
   "execution_count": 31,
   "metadata": {},
   "outputs": [
    {
     "name": "stderr",
     "output_type": "stream",
     "text": [
      "100%|██████████| 17966/17966 [00:03<00:00, 4956.95it/s]\n"
     ]
    }
   ],
   "source": [
    "for i in tqdm(range(len(records))):\n",
    "    x_data[i,:,:,:] = records[i]['cam/image_array']\n",
    "    y_data[i,:] = linear_bin(records[i]['user/angle'])"
   ]
  },
  {
   "cell_type": "code",
   "execution_count": 63,
   "metadata": {},
   "outputs": [],
   "source": [
    "np.save(\"x_data_bin_5.npy\",x_data)"
   ]
  },
  {
   "cell_type": "code",
   "execution_count": 32,
   "metadata": {},
   "outputs": [],
   "source": [
    "np.save(\"y_data_bin_5.npy\",y_data)"
   ]
  },
  {
   "cell_type": "code",
   "execution_count": 65,
   "metadata": {},
   "outputs": [
    {
     "data": {
      "image/png": "[encoded data removed]",
      "text/plain": [
       "<matplotlib.figure.Figure at 0x7f2ea9242a58>"
      ]
     },
     "metadata": {},
     "output_type": "display_data"
    }
   ],
   "source": [
    "from matplotlib import pyplot as plt\n",
    "plt.imshow(x_data[115]);plt.show()"
   ]
  },
  {
   "cell_type": "code",
   "execution_count": null,
   "metadata": {},
   "outputs": [],
   "source": []
  }
 ],
 "metadata": {
  "kernelspec": {
   "display_name": "Python 3",
   "language": "python",
   "name": "python3"
  },
  "language_info": {
   "codemirror_mode": {
    "name": "ipython",
    "version": 3
   },
   "file_extension": ".py",
   "mimetype": "text/x-python",
   "name": "python",
   "nbconvert_exporter": "python",
   "pygments_lexer": "ipython3",
   "version": "3.5.4"
  }
 },
 "nbformat": 4,
 "nbformat_minor": 2
}
